{
  "nbformat": 4,
  "nbformat_minor": 0,
  "metadata": {
    "colab": {
      "name": "Student 1  Notebook.ipynb",
      "provenance": [],
      "collapsed_sections": [],
      "include_colab_link": true
    },
    "kernelspec": {
      "name": "python3",
      "display_name": "Python 3"
    }
  },
  "cells": [
    {
      "cell_type": "markdown",
      "metadata": {
        "id": "view-in-github",
        "colab_type": "text"
      },
      "source": [
        "<a href=\"https://colab.research.google.com/github/skyelong/GoogleColabNotebook/blob/master/Student_1_Notebook.ipynb\" target=\"_parent\"><img src=\"https://colab.research.google.com/assets/colab-badge.svg\" alt=\"Open In Colab\"/></a>"
      ]
    },
    {
      "cell_type": "markdown",
      "metadata": {
        "id": "On7a8iw_nqtm",
        "colab_type": "text"
      },
      "source": [
        "# Notebook Introduction"
      ]
    },
    {
      "cell_type": "markdown",
      "metadata": {
        "id": "Q-LKx4cnkZiF",
        "colab_type": "text"
      },
      "source": [
        "#How to use this notebook:\n",
        "## To run a block of code, click on the [ ] in the upper left corner. A number in the [ ] indicates that you have run that block of code.\n",
        "\n",
        "## Code should be run in the order it appears.\n",
        "\n",
        "## Formfields are also code blocks and must be run by clicking on the [ ] "
      ]
    },
    {
      "cell_type": "markdown",
      "metadata": {
        "id": "AUeFT7xOjPaR",
        "colab_type": "text"
      },
      "source": [
        "\n",
        "## Notebook Description\n",
        "\n",
        "+ This notebook is intended to be used during a lecture as an active learning tool. \n",
        "+ Each student would have an individual copy of the notebook, along with data and documentation. \n",
        "+ During some activities, feedback from the students, in the form of data or images, are collected during the lecture and can be used by the instructor in real-time.\n",
        "\n",
        "\n",
        "\n",
        "### Learning modules may have the following sections:\n",
        " * **Student Notebook** - This is what the student would see during the activity. Student input is saved in their personal notebook and can be examined by the instructor during or after the lecture.\n",
        "  * **Solution View** - Often the student notebook will require students to fill out parts of the code. To make the experience easier for reviwers, a Solutions View is available.\n",
        "\n",
        "### Please see the annotated lesson document to see the slides, instructor interaction and narrative for the lesson"
      ]
    },
    {
      "cell_type": "markdown",
      "metadata": {
        "id": "UrO3gydSoCU_",
        "colab_type": "text"
      },
      "source": [
        "# Setting up the Environment\n",
        "**You must run these blocks for the notebook to work properly**   \n",
        "\n",
        "\n",
        "The first class of the semester will be dedicated to helping students understand how the Google Colaboratory environment works and which cells must be run before each lecture. All Notebooks require some intital code to be run before students can interact with them. Those foundational code blocks are below. \n",
        "\n",
        "WITH THE EXCEPTION OF STUDENT CODE BLOCKS THAT CONTAIN A SOLUTION VIEW, YOU MUST RUN EVERY CODEBLOCK IN ORDER TO MAKE THE NOTEBOOK WORK."
      ]
    },
    {
      "cell_type": "markdown",
      "metadata": {
        "id": "1Cbw63_2BT2y",
        "colab_type": "text"
      },
      "source": [
        "## Libraries imported"
      ]
    },
    {
      "cell_type": "code",
      "metadata": {
        "id": "VZ4U9b9NBPBR",
        "colab_type": "code",
        "colab": {}
      },
      "source": [
        "#Importing the libraries used in the demo\n",
        "import pandas as pd\n",
        "import matplotlib.pyplot as plt\n",
        "import numpy as np\n",
        "import seaborn as sns\n",
        "import os\n",
        "from scipy import stats\n",
        "from numpy import genfromtxt\n",
        "\n",
        "\n",
        "\n",
        "# Set default Seaborn style \n",
        "sns.set()\n",
        "\n",
        "#Uses pandas to display dataframes as interactive tables\n",
        "%load_ext google.colab.data_table"
      ],
      "execution_count": 0,
      "outputs": []
    },
    {
      "cell_type": "markdown",
      "metadata": {
        "id": "dW9LiKLYDkFK",
        "colab_type": "text"
      },
      "source": [
        "## Mount the Shared Drive to Access Data\n",
        "Students will each be provided an idividual course folder that they must add to their google drive at the beginning of the semester. This only needs to be done once in the semester. If you have not added the demo folder to your google drive **Do so now**. Instructions are on the website:\n",
        "\n",
        "/content/gdrive/My Drive/Apps/Lesson_Demo/Student_1/MachineLearning1\n",
        "\n",
        "   This code block will mount your google drive to the virtual machine. Click on the link provided and copy and paste the authorization code. \n",
        "\n",
        "For this demonstration, I have removed user limits on this notebook and shared files. In a real classroom environment, \n",
        "students would not be able to see data or notebooks generated by other students. Google Colab uses the same user\n",
        "permissions as google drive. "
      ]
    },
    {
      "cell_type": "code",
      "metadata": {
        "id": "YluC90wOExjM",
        "colab_type": "code",
        "colab": {}
      },
      "source": [
        "# This will let you access the data for the lesson and interact with the shared classroom resources\n",
        "from google.colab import drive\n",
        "drive.mount('/content/gdrive')"
      ],
      "execution_count": 0,
      "outputs": []
    },
    {
      "cell_type": "code",
      "metadata": {
        "id": "xZHlL4maEpp2",
        "colab_type": "code",
        "colab": {}
      },
      "source": [
        "#This will change your current working directory to the lecure directory\n",
        "%cd /content/gdrive/My Drive/Lesson_Demo/Student_1/MachineLearning1\n"
      ],
      "execution_count": 0,
      "outputs": []
    },
    {
      "cell_type": "code",
      "metadata": {
        "id": "ibBbNvDFErEF",
        "colab_type": "code",
        "colab": {}
      },
      "source": [
        "#This code will let you see all the files in the shared folder\n",
        "!ls '/content/gdrive/My Drive/Lesson_Demo/Student_1/MachineLearning1'"
      ],
      "execution_count": 0,
      "outputs": []
    },
    {
      "cell_type": "markdown",
      "metadata": {
        "id": "dFAu5K-ahAlW",
        "colab_type": "text"
      },
      "source": [
        "# Please enter a name that your output data will be stored under\n"
      ]
    },
    {
      "cell_type": "markdown",
      "metadata": {
        "id": "aYLblTZpx0QQ",
        "colab_type": "text"
      },
      "source": [
        "## Note that others using this demonstration will see this data\n"
      ]
    },
    {
      "cell_type": "code",
      "metadata": {
        "id": "cBhc8xEEQDvt",
        "colab_type": "code",
        "cellView": "form",
        "colab": {}
      },
      "source": [
        "#@markdown **Please enter the name you would like to use**\n",
        "\n",
        "\n",
        "Your_Name = 'Student 5'  #@param {type: \"string\"}\n",
        "# Creating the type of a structure\n",
        "dtype = [('Name', (np.str_, 100)), ('Attendance', np.int32)]\n",
        " \n",
        "#Creating a Strucured Numpy array\n",
        "AttendanceArr = np.array([(Your_Name, 1)], dtype=dtype)\n",
        " \n",
        "print(AttendanceArr)\n",
        "CSV_Path = F\"/content/gdrive/My Drive/Lesson_Demo/Student_1/MachineLearning1/Student_1_Attendance.csv\"\n",
        "np.savetxt(CSV_Path, AttendanceArr, delimiter=',', fmt=['%s' , '%d'], header='Name,Attendance', comments='')\n",
        "\n",
        "\n"
      ],
      "execution_count": 0,
      "outputs": []
    },
    {
      "cell_type": "markdown",
      "metadata": {
        "id": "7qiP_FzEZ5Yc",
        "colab_type": "text"
      },
      "source": [
        "## Run this code to see how the information from the previous code block is uploaded to the Google Drive\n"
      ]
    },
    {
      "cell_type": "code",
      "metadata": {
        "id": "RHJxmOOOaJEc",
        "colab_type": "code",
        "colab": {}
      },
      "source": [
        "See_response = pd.read_csv('/content/gdrive/My Drive/Lesson_Demo/Student_1/MachineLearning1/Student_1_Attendance.csv')\n",
        "See_response"
      ],
      "execution_count": 0,
      "outputs": []
    },
    {
      "cell_type": "markdown",
      "metadata": {
        "id": "5mBNmAy3rxxk",
        "colab_type": "text"
      },
      "source": [
        "# Slide 2 - Warm UP!!\n",
        "![alt text](https://drive.google.com/uc?id=1FEadzHMNRgGgbdtcwiBlrw1SnhCzip90)"
      ]
    },
    {
      "cell_type": "code",
      "metadata": {
        "id": "pucuZuCtuEcc",
        "colab_type": "code",
        "colab": {}
      },
      "source": [
        "#@title Slide 2 Answer { display-mode: \"form\" }\n",
        "Q1_Ans = \"Graph C\" #@param [\"Graph A\", \"Graph B\", \"Graph C\"]\n",
        "\n",
        "dtype = [('Name', (np.str_, 100)), ('Q1', (np.str_, 100))]\n",
        " \n",
        "#Creating a Strucured Numpy array\n",
        "AttendanceArr = np.array([(Your_Name, Q1_Ans)], dtype=dtype)\n",
        " \n",
        "print(AttendanceArr)\n",
        "CSV_Path = F\"/content/gdrive/My Drive/Lesson_Demo/Student_1/MachineLearning1/Q1_Student1.csv\"\n",
        "np.savetxt(CSV_Path, AttendanceArr, delimiter=',', fmt=['%s' , '%s'], header='Name,Q1', comments='')\n",
        "\n"
      ],
      "execution_count": 0,
      "outputs": []
    },
    {
      "cell_type": "markdown",
      "metadata": {
        "id": "x9lmVgJ-BAfs",
        "colab_type": "text"
      },
      "source": [
        "##Notes"
      ]
    },
    {
      "cell_type": "markdown",
      "metadata": {
        "id": "ottHDTmR2Ndm",
        "colab_type": "text"
      },
      "source": [
        "# Slide 4\n",
        "## Homework Error Winner!\n",
        "![alt text](https://drive.google.com/uc?id=1264xj92L5IMAE-zaYjcri6XMa4bR8ACq)"
      ]
    },
    {
      "cell_type": "code",
      "metadata": {
        "id": "BNgDu2hp2g4d",
        "colab_type": "code",
        "colab": {}
      },
      "source": [
        "#@title Can you identify the Error? { display-mode: \"form\" }\n",
        "#@markdown If you need a little help, don't forget to ask a neighbor!\n",
        "\n",
        "#@markdown What type of error is this?\n",
        "Q2_A1 = \"\" #@param {type:\"string\"}\n",
        "\n",
        "#@markdown What line is it occuring on?\n",
        "Q2_A2 = 0 #@param {type:\"integer\"}\n",
        "\n",
        "#@markdown Can you suggest a solution? Or if not, can you find a webpage that might be useful?\n",
        "Q2_A3 = \"\" #@param {type:\"string\"}\n"
      ],
      "execution_count": 0,
      "outputs": []
    },
    {
      "cell_type": "markdown",
      "metadata": {
        "id": "NCI69bDsA90W",
        "colab_type": "text"
      },
      "source": [
        "##Example of a Notes Section\n",
        "### Students can use markdown to write their notes within the notebook!"
      ]
    },
    {
      "cell_type": "markdown",
      "metadata": {
        "id": "HGf_c29YA6Xb",
        "colab_type": "text"
      },
      "source": [
        "# Slide 5"
      ]
    },
    {
      "cell_type": "code",
      "metadata": {
        "id": "vYGGtmqVBN52",
        "colab_type": "code",
        "cellView": "form",
        "colab": {}
      },
      "source": [
        "#@title What do you know about Machine Learning?\n",
        "Q3_A1 = \"\" #@param {type:\"string\"}\n",
        "\n"
      ],
      "execution_count": 0,
      "outputs": []
    },
    {
      "cell_type": "markdown",
      "metadata": {
        "id": "9NK5UUThhtAK",
        "colab_type": "text"
      },
      "source": [
        "#Slide 7"
      ]
    },
    {
      "cell_type": "code",
      "metadata": {
        "id": "upt4QG36VIcg",
        "colab_type": "code",
        "colab": {}
      },
      "source": [
        "# Import LinearRegression\n",
        "from sklearn.linear_model import LinearRegression\n",
        "\n",
        "# Read the CSV file into a DataFrame: df\n",
        "df = pd.read_csv('gapminder.csv')\n",
        "\n",
        "# Create arrays for features and target variable\n",
        "y = df['life'].values\n",
        "X = df['fertility'].values\n",
        "\n",
        "# Reshape X and y\n",
        "y = y.reshape(-1,1)\n",
        "X = X.reshape(-1,1)\n",
        "\n",
        "# Create the regressor: reg\n",
        "reg = LinearRegression()\n",
        "\n",
        "# Create the prediction space\n",
        "prediction_space = np.linspace(min(X), max(X))\n",
        "\n",
        "# Fit the model to the data\n",
        "reg.fit(X, y)\n",
        "\n",
        "# Compute predictions over the prediction space: y_pred\n",
        "y_pred = reg.predict(prediction_space)\n",
        "\n",
        "# Print R^2 \n",
        "print(reg.score(X, y))\n",
        "\n",
        "# Plot regression line\n",
        "f = plt.figure(figsize = (15,10))\n",
        "_ = plt.plot(prediction_space, y_pred, color='black', linewidth=3)\n",
        "_ = plt.plot(X, y, marker = '.', linestyle = 'none')\n",
        "plt.show()\n",
        "\n"
      ],
      "execution_count": 0,
      "outputs": []
    },
    {
      "cell_type": "markdown",
      "metadata": {
        "id": "lkqaAEIjBHTG",
        "colab_type": "text"
      },
      "source": [
        "#Slide 16"
      ]
    },
    {
      "cell_type": "code",
      "metadata": {
        "id": "VqLPCfrhIBqR",
        "colab_type": "code",
        "colab": {}
      },
      "source": [
        "'''In this field, write a psuedocode version of a simple if/else statement to describe\n",
        "one feature of a 0. Note that you will not be able to run this field, but your responses\n",
        "will be saved\"\"\n"
      ],
      "execution_count": 0,
      "outputs": []
    },
    {
      "cell_type": "markdown",
      "metadata": {
        "id": "UIzGmCYANqlR",
        "colab_type": "text"
      },
      "source": [
        "#Slide 21\n",
        "![alt text](https://drive.google.com/uc?id=16AAZL1i4N3r_uu8DMHlBaSc7CnxzZncI)"
      ]
    },
    {
      "cell_type": "code",
      "metadata": {
        "id": "2W3xWM3hNyQ0",
        "colab_type": "code",
        "cellView": "form",
        "colab": {}
      },
      "source": [
        "#@title What is the Target and what are the Features?\n",
        "#@markdown What is the Target? What are we trying to get the computer to identify?\n",
        "Q4A1 = \"\" #@param {type:\"string\"}\n",
        "#@markdown What are the Features? What will the computer use to make the decision?\n",
        "Q4_A2 = \"\" #@param {type:\"string\"}\n"
      ],
      "execution_count": 0,
      "outputs": []
    },
    {
      "cell_type": "markdown",
      "metadata": {
        "id": "O3zqbuNsOtic",
        "colab_type": "text"
      },
      "source": [
        "#Slide 22\n",
        "![alt text](https://drive.google.com/uc?id=1qsbZY6DfmylBXt9E2qSOua0k9Z5EZEme)"
      ]
    },
    {
      "cell_type": "code",
      "metadata": {
        "id": "zgz45MZIOw7X",
        "colab_type": "code",
        "colab": {}
      },
      "source": [
        "'''Use this block to write a pandas DataFrame describing the 3 x 3 segment of the number 8.\n",
        "HINT!!! - Put in ALL the information the computer would need!'''\n",
        "#pandas has already been imported as pd\n",
        "\n",
        "#Create your list\n",
        "## Fill in your code where you see _ _ _\n",
        "lst_8 = [['_ _ _', _ _ _ , _ _ _ , _ _ _ , _ _ _ , _ _ _ , _ _ _ , 3,0,0 ]]\n",
        "\n",
        "#Create your DataFrame\n",
        "df_8 = pd.DataFrame(lst_8, columns = ['Target', 'Pixel1', 'Pixel2', '_ _ _','_ _ _','_ _ _','_ _ _','_ _ _','_ _ _','_ _ _'])\n",
        "\n",
        "#Show your DataFrame\n",
        "df_8"
      ],
      "execution_count": 0,
      "outputs": []
    },
    {
      "cell_type": "markdown",
      "metadata": {
        "id": "sXpSXkJVTZ_Q",
        "colab_type": "text"
      },
      "source": [
        "##Solution View\n",
        "This would not be in the student notebook. You can use this block to run the code without needing to solve the posed problem. In the rest of the notebook, use these Solution View blocks to generate data."
      ]
    },
    {
      "cell_type": "code",
      "metadata": {
        "colab_type": "code",
        "id": "aHdMtwCfThCn",
        "colab": {}
      },
      "source": [
        "'''use this block to write a pandas DataFrame describing the 3 x 3 segment of the number 8.\n",
        "HINT!!! - Put in ALL the information the computer would need!'''\n",
        "#pandas has already been imported as pd\n",
        "#Fill out the code to turn this list into a DataFrame\n",
        "\n",
        "#Create your list\n",
        "## Fill in your code where you see _ _ _\n",
        "lst_8 = [['8', 146 , 182 , 254 , 217, 208, 136, 3,0,0 ]]\n",
        "\n",
        "#Create your DataFrame\n",
        "df_8 = pd.DataFrame(lst_8, columns = ['Target', 'Pixel1', 'Pixel2', 'Pixel3', 'Pixel4', 'Pixel5', 'Pixel6', 'Pixel7', 'Pixel8', 'Pixel9'])\n",
        "\n",
        "#Show your DataFrame\n",
        "df_8"
      ],
      "execution_count": 0,
      "outputs": []
    },
    {
      "cell_type": "markdown",
      "metadata": {
        "id": "GzAOtTVObe-U",
        "colab_type": "text"
      },
      "source": [
        "#Slide 24\n",
        "![alt text](https://drive.google.com/uc?id=1FwKGwG-dog6ZFq3rAXzoXkXQiK4gQPNX)"
      ]
    },
    {
      "cell_type": "code",
      "metadata": {
        "id": "NNwKHP3nbotg",
        "colab_type": "code",
        "cellView": "form",
        "colab": {}
      },
      "source": [
        "#@title Which is NOT Supervised Learning?\n",
        "Q5_A1 = \"Example A\" #@param [\"Example A\", \"Example B\", \"Example C\"]\n"
      ],
      "execution_count": 0,
      "outputs": []
    },
    {
      "cell_type": "markdown",
      "metadata": {
        "id": "ZniTFCs1iUCX",
        "colab_type": "text"
      },
      "source": [
        "#Slide 33"
      ]
    },
    {
      "cell_type": "markdown",
      "metadata": {
        "id": "1TiA8VI5xlmU",
        "colab_type": "text"
      },
      "source": [
        "### Import the CSV file\n",
        "As you have done before, we will import a CSV file from our shared drive. \n",
        "Please complete the following code to import the data.   \n",
        "If you need a hint, look at our Importing Data notebook!\n",
        "\n",
        "  * Fill in any part of the code that has _ _ _ "
      ]
    },
    {
      "cell_type": "code",
      "metadata": {
        "id": "ZCQJDKLHHzuu",
        "colab_type": "code",
        "colab": {}
      },
      "source": [
        "#Use pandas to read the csv into a pandas DataFrame\n",
        "data = pd._ _ _ ('SchoolData2017.csv') \n",
        "\n",
        "#Look at the first 10 lines of the file\n",
        "\n",
        "data.head(_ _ _)\n",
        "\n"
      ],
      "execution_count": 0,
      "outputs": []
    },
    {
      "cell_type": "markdown",
      "metadata": {
        "id": "i-_SWHsTtjhY",
        "colab_type": "text"
      },
      "source": [
        "## Solution View\n"
      ]
    },
    {
      "cell_type": "code",
      "metadata": {
        "id": "sh7Nz1Oluez-",
        "colab_type": "code",
        "colab": {}
      },
      "source": [
        "#Uses Pandas to read the csv into a Pandas DataFrame\n",
        "data = pd.read_csv('SchoolData2017.csv') \n",
        "\n",
        "#Look at the first 10 lines of the file\n",
        "\n",
        "data.head(10)"
      ],
      "execution_count": 0,
      "outputs": []
    },
    {
      "cell_type": "markdown",
      "metadata": {
        "id": "x3k1GFbpiaZC",
        "colab_type": "text"
      },
      "source": [
        "#Slide 34"
      ]
    },
    {
      "cell_type": "code",
      "metadata": {
        "id": "8wgD-smMsJd5",
        "colab_type": "code",
        "cellView": "form",
        "colab": {}
      },
      "source": [
        "#@title \n",
        "#@markdown What information does the field C14 provide. Please also include the units of the data.\n",
        "Q6_A1 = \"\" #@param {type:\"string\"}\n",
        "#@markdown What state is the school at data.iloc[1] in?\n",
        "\n",
        "#@markdown Don't forget you can use a scratch cell to look at the data without editing your notebook!\n",
        "Q5_A2 = \"\" #@param {type:\"string\"}\n",
        "\n",
        "#@What is the \"Type of Government\" for the school at data.iloc[1]?"
      ],
      "execution_count": 0,
      "outputs": []
    },
    {
      "cell_type": "markdown",
      "metadata": {
        "id": "iiehT4uHya6p",
        "colab_type": "text"
      },
      "source": [
        "#Slide 35\n",
        "This version of the file has been cleaned up a bit, but their might still be some issues!"
      ]
    },
    {
      "cell_type": "code",
      "metadata": {
        "id": "a-eSKyrtw6H0",
        "colab_type": "code",
        "colab": {}
      },
      "source": [
        "#Uses pandas to read the csv into a Pandas DataFrame\n",
        "data = pd.read_csv('SchoolData2017Clean.csv') \n",
        "\n",
        "#Use the describe feature to look at the data. \n",
        "data.describe().transpose()"
      ],
      "execution_count": 0,
      "outputs": []
    },
    {
      "cell_type": "markdown",
      "metadata": {
        "id": "75ylQOFAw5RG",
        "colab_type": "text"
      },
      "source": [
        "#Slide 36\n",
        "Please edit the model code to generate a scatter plot with Total Federal Revenue along the X-axis and Total Instructional Expendatures along the Y-axis.\n",
        "\n",
        "DO NOT FORGET TO LABEL THE AXES WITH THE UNITS OF THE DATA!!!"
      ]
    },
    {
      "cell_type": "code",
      "metadata": {
        "colab_type": "code",
        "id": "UA0yYZ0Q6oh8",
        "colab": {}
      },
      "source": [
        "#DO NOT EDIT THIS CODE IT MAKES SURE YOUR WORK IS SAVED!\n",
        "model_save_name = Your_Name + '_' + 'seaborn.png'\n",
        "path = F\"/content/gdrive/My Drive/Lesson_Demo/Student_1/MachineLearning1{model_save_name}\"\n",
        "\n",
        "#Calculating some Statistics. Don't worry! We will be talking about these\n",
        "slope, intercept, r_value, p_value, std_err = stats.linregress(data['TOTAL_Federal_Revenue'],data['TOTAL_INSTRUC_EXP'])\n",
        "\n",
        "'''BEGIN EDITING CODE'''\n",
        "#Set up the figure space\n",
        "f = plt.figure(figsize=(15,10))\n",
        "\n",
        "#Assign the plot to a dummy variable.\n",
        "\n",
        "sns.regplot(df['Puppies'], df['Happiness'], scatter = True, fit_reg=True, ci = None, line_kws={'label':\"y={0:.1f}x+{1:.1f}\".format(slope,intercept)} )\n",
        "\n",
        "# Label the axes\n",
        "_=plt.xlabel('Total Number of Puppies (Pups)')\n",
        "_=plt.ylabel('Total Units of Happiness (Squee)')\n",
        "\n",
        "#Add the equation for the line onto the plot\n",
        "_= plt.legend()\n",
        "\n",
        "# Show the result\n",
        "plt.show()\n",
        "\n",
        "'''END EDITING CODE'''\n",
        "\n",
        "#DO NOT EDIT THIS PART, IT SAVES YOUR FILE TO THE DRIVE\n",
        "f.savefig(path, format = 'png')\n"
      ],
      "execution_count": 0,
      "outputs": []
    },
    {
      "cell_type": "markdown",
      "metadata": {
        "id": "FvNz4LnPKclZ",
        "colab_type": "text"
      },
      "source": [
        "#Solution View"
      ]
    },
    {
      "cell_type": "code",
      "metadata": {
        "colab_type": "code",
        "id": "JAzm8FvZKbmd",
        "colab": {}
      },
      "source": [
        "#DO NOT EDIT THIS CODE IT MAKES SURE YOUR WORK IS SAVED!\n",
        "model_save_name = Your_Name + '_' + 'seaborn.png'\n",
        "path = F\"/content/gdrive/My Drive/Lesson_Demo/Student_1/MachineLearning1{model_save_name}\"\n",
        "\n",
        "#Calculating some Statistics. Don't worry! We will be talking about these\n",
        "slope, intercept, r_value, p_value, std_err = stats.linregress(data['Total_Federal_Revenue'],data['TOTAL_INSTRUC_EXP'])\n",
        "\n",
        "'''BEGIN EDITING CODE'''\n",
        "#Set up the figure space\n",
        "f = plt.figure(figsize=(15,10))\n",
        "\n",
        "#Assign the plot to a dummy variable.\n",
        "#_ = plt.plot(Arizona_df['Total_Federal_Revenue'],Arizona_df['TOTAL_INSTRUC_EXP'], marker = '.', linestyle = 'none')\n",
        "sns.regplot(data['Total_Federal_Revenue'], data['TOTAL_INSTRUC_EXP'], scatter = True, fit_reg=True, ci = None, line_kws={'label':\"y={0:.1f}x+{1:.1f}\".format(slope,intercept)} )\n",
        "\n",
        "# Label the axes\n",
        "_=plt.xlabel('Total Federal Revenue in Thousands($)')\n",
        "_=plt.ylabel('Total Instructional Expend in Thousands($)')\n",
        "\n",
        "#Add the equation for the line onto the plot\n",
        "_= plt.legend()\n",
        "\n",
        "# Show the result\n",
        "plt.show()\n",
        "\n",
        "'''END EDITING CODE'''\n",
        "\n",
        "#DO NOT EDIT THIS PART, IT SAVES YOUR FILE TO THE DRIVE\n",
        "f.savefig(path, format = 'png')\n"
      ],
      "execution_count": 0,
      "outputs": []
    },
    {
      "cell_type": "markdown",
      "metadata": {
        "id": "-c6ylIyJVaTj",
        "colab_type": "text"
      },
      "source": [
        "#Slide 42\n",
        "![alt text](https://drive.google.com/uc?id=1EOIppydALLIlYRaOX9C8huirGd2UP7dk)"
      ]
    },
    {
      "cell_type": "code",
      "metadata": {
        "id": "9rAQTtpGVdWu",
        "colab_type": "code",
        "cellView": "form",
        "colab": {}
      },
      "source": [
        "#@title Please write the equation of the line in plain language. \n",
        "Q6_A1 = \"\" #@param {type:\"string\"}\n",
        "\n"
      ],
      "execution_count": 0,
      "outputs": []
    }
  ]
}